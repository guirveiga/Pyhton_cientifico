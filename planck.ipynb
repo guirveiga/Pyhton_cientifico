{
  "nbformat": 4,
  "nbformat_minor": 0,
  "metadata": {
    "colab": {
      "name": "planck",
      "provenance": []
    },
    "kernelspec": {
      "name": "python3",
      "display_name": "Python 3"
    },
    "language_info": {
      "name": "python"
    }
  },
  "cells": [
    {
      "cell_type": "code",
      "metadata": {
        "id": "7YDXzzsyvA1Q"
      },
      "source": [
        "import matplotlib.pyplot as plt\n",
        "import numpy as np"
      ],
      "execution_count": 1,
      "outputs": []
    },
    {
      "cell_type": "code",
      "metadata": {
        "id": "ZfnC7LEYvJYt"
      },
      "source": [
        "#Definir uma funcao\n",
        "def planck(wavelength, temp):\n",
        "  ''' Return the emitted radiation from a blackbody of a given temp and wavelength\n",
        "\n",
        "  Args:\n",
        "    wavelength(float): wavelength (m)\n",
        "    temp (float): temperature of a Blackbody (Kelvin)\n",
        "\n",
        "  Returns:\n",
        "    float: spectral radiance (W / (sr m^3))\n",
        "  \n",
        "  '''\n",
        "  k_b = 1.381e-26 # J/K - Boltzmann's constant\n",
        "  h = 6.626e-34 # J s - Planck constante\n",
        "  c = 2.998e8 # m/s - speed of light \n",
        "\n",
        "  return((2 * h * c ** 2) / wavelength ** 5 * 1 / (np.exp(h*c / (wavelength * k_b * temp)) -1 ))"
      ],
      "execution_count": 4,
      "outputs": []
    },
    {
      "cell_type": "code",
      "metadata": {
        "colab": {
          "base_uri": "https://localhost:8080/"
        },
        "id": "2I4i2aKtErce",
        "outputId": "813b1943-a03d-4db8-c0fa-aad18185592b"
      },
      "source": [
        "for temp in (3000, 4000, 5000):\n",
        "  rad = planck(0.5e-6, temp)\n",
        "  rad_KW_per_sr_m2_nm = rad / 1e3 / 1e9 # converte from W to KW and m to nm\n",
        "  print('%.3f K: %.5f KW/(sr m^2  nm)' % (temp, rad_KW_per_sr_m2_nm))"
      ],
      "execution_count": 5,
      "outputs": [
        {
          "output_type": "stream",
          "name": "stdout",
          "text": [
            "3000.000 K: 0.00000 KW/(sr m^2  nm)\n",
            "4000.000 K: 0.00000 KW/(sr m^2  nm)\n",
            "5000.000 K: 0.00000 KW/(sr m^2  nm)\n"
          ]
        },
        {
          "output_type": "stream",
          "name": "stderr",
          "text": [
            "/usr/local/lib/python3.7/dist-packages/ipykernel_launcher.py:17: RuntimeWarning: overflow encountered in exp\n"
          ]
        }
      ]
    }
  ]
}